{
 "cells": [
  {
   "cell_type": "markdown",
   "metadata": {
    "collapsed": true
   },
   "source": [
    "# Identifying Cafe Density for Coffee Bean Distribution"
   ]
  },
  {
   "cell_type": "markdown",
   "metadata": {},
   "source": [
    "## 1. Introduction"
   ]
  },
  {
   "cell_type": "markdown",
   "metadata": {},
   "source": [
    "### 1.1 Background"
   ]
  },
  {
   "cell_type": "markdown",
   "metadata": {},
   "source": [
    "The concept of grinding coffee beans and steeping the grounds in water has been around for centuries. The aromatic drink has drawn the attention of nearly every type of person. It is a product that is as ubiquitous as water itself, servered around the world on every continent, and retains a high level of demand in every corner of Earth. In fact, interest has not waned but seems to be ever increasing as of late. So with economic demand appearing nearly inelastic, and companies like Starbucks selling cups for $5 in some places, it would make sense for someone to want to enter the coffee bean distrubition business. To achieve maximum cashflow, one might want to operate in the one of the largest markets available, New York City."
   ]
  },
  {
   "cell_type": "markdown",
   "metadata": {},
   "source": [
    "### 1.2 Problem"
   ]
  },
  {
   "cell_type": "markdown",
   "metadata": {},
   "source": [
    "Opening a coffeee bean distribution service in New York City might seem like a winning idea, but there are factors that need to go into the planning. For one, research should be done in order to determine an opportunistic location for the business. New York City is large, and there are countless possibilities for the placement of a bean supplier. One should consider, perhaps, the populations of New York City's boroughs and neighborhoods, prevalence of nearby cafes and coffee shops, and other retail stores that may influence the success of the business."
   ]
  },
  {
   "cell_type": "markdown",
   "metadata": {},
   "source": [
    "### 1.3 Interest"
   ]
  },
  {
   "cell_type": "markdown",
   "metadata": {},
   "source": [
    "Those with interest in an analysis of coffee-centric neighborhoods would include an audience of the aforementioned coffee bean suppliers, plus a potential group of other stakeholders like cafe owners, local real estate investors, and even coffee-enthused tourists or residents. City officials may want to read such a study to help guide community planning as well."
   ]
  },
  {
   "cell_type": "markdown",
   "metadata": {},
   "source": [
    "## 2. Data Extraction and Cleaning"
   ]
  },
  {
   "cell_type": "markdown",
   "metadata": {},
   "source": [
    "### 2.1 Data Sources"
   ]
  },
  {
   "cell_type": "markdown",
   "metadata": {},
   "source": [
    "A comprehensive list of New York City's boroughs and associated neighborhoods can be found at the following URL: https://cf-courses-data.s3.us.cloud-object-storage.appdomain.cloud/IBMDeveloperSkillsNetwork-DS0701EN-SkillsNetwork/labs/newyork_data.json. From the .json file, we can additionally locate coordinates which we will use to visualize our research. Retail data will be extracted using a Foursquare API. Foursquare possesses information on a range of venues with details including reviews, photos, and product or service categories among others, but we will be primarily concerned with location and category data for the sake of the analysis."
   ]
  },
  {
   "cell_type": "markdown",
   "metadata": {},
   "source": [
    "### 2.2 Data Cleaning"
   ]
  },
  {
   "cell_type": "markdown",
   "metadata": {},
   "source": [
    "Data from sources will be transformed before loading to include the appropriate features, including but possibly not limited to: borough and neighbhorhood names, latitude and longitude or locations, venue names, and venue categories. Cleaning feature records/rows may be required to purge vaccant data from cells as to not hinder any visualizations or computations. Also, lists should be scrubbed to omit erroneous data that could inadvertantly affect the results of the analysis."
   ]
  },
  {
   "cell_type": "code",
   "execution_count": null,
   "metadata": {},
   "outputs": [],
   "source": []
  }
 ],
 "metadata": {
  "kernelspec": {
   "display_name": "Python 3.7",
   "language": "python",
   "name": "python3"
  },
  "language_info": {
   "codemirror_mode": {
    "name": "ipython",
    "version": 3
   },
   "file_extension": ".py",
   "mimetype": "text/x-python",
   "name": "python",
   "nbconvert_exporter": "python",
   "pygments_lexer": "ipython3",
   "version": "3.7.9"
  }
 },
 "nbformat": 4,
 "nbformat_minor": 1
}
